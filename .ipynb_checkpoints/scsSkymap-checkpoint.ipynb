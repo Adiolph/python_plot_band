{
 "cells": [
  {
   "cell_type": "code",
   "execution_count": 1,
   "metadata": {},
   "outputs": [],
   "source": [
    "import numpy as np\n",
    "from numpy import pi, cos, sin, exp, log, arctan, absolute\n",
    "import matplotlib.pyplot as plt\n",
    "import imageio\n",
    "\n",
    "import astropy.coordinates as coord\n",
    "import astropy.units as u"
   ]
  },
  {
   "cell_type": "code",
   "execution_count": 2,
   "metadata": {},
   "outputs": [],
   "source": [
    "class Detector:\n",
    "    def __init__(self, longitude, latitude):\n",
    "        self.lon = longitude\n",
    "        self.lat = latitude\n",
    "\n",
    "def rotate(angles, alpha, beta):\n",
    "    \"\"\"\n",
    "    Rotation in spherical coordinates.\n",
    "    Firt rotate along z axis, than rotate along y' axis.\n",
    "    See https://stla.github.io/stlapblog/posts/RotationSphericalCoordinates.html for detail.\n",
    "    \n",
    "    Parameters\n",
    "    ----------\n",
    "    angles : numpy arrays\n",
    "        The numpy array of [theta, phi]\n",
    "    alpha : float\n",
    "        The rotation angle along z axis\n",
    "    beta : float \n",
    "        The rotation angle along y axis\n",
    "    \"\"\"\n",
    "    \n",
    "    # the tranform matrix\n",
    "    tfMatrixZ = np.array([[exp(-1j*alpha/2), 0], [0, exp(1j*alpha/2)]])\n",
    "    tfMatrixY = np.array([[cos(beta/2), -sin(beta/2)], [sin(beta/2), cos(beta/2)]])\n",
    "    tfMatrix = np.dot(tfMatrixY, tfMatrixZ)\n",
    "    \n",
    "    # return data initialize\n",
    "    length = len(angles)\n",
    "    anglesNew = np.zeros([length, 2])\n",
    "    \n",
    "    for i in range(length):\n",
    "        angle = angles[i]\n",
    "        comp = np.array([cos(angle[0]/2), exp(1j*angle[1]) * sin(angle[0]/2)])\n",
    "        compNew = np.dot(comp, tfMatrix)\n",
    "        compRatio = compNew[1] / compNew[0]\n",
    "        angleNew = np.array([2*arctan(absolute(compRatio)), np.angle(compRatio)])\n",
    "        anglesNew[i] = angleNew.copy()\n",
    "    return anglesNew\n",
    "        "
   ]
  },
  {
   "cell_type": "code",
   "execution_count": 3,
   "metadata": {
    "scrolled": false
   },
   "outputs": [
    {
     "name": "stderr",
     "output_type": "stream",
     "text": [
      "/Users/apple/anaconda3/lib/python3.7/site-packages/ipykernel_launcher.py:5: RuntimeWarning: More than 20 figures have been opened. Figures created through the pyplot interface (`matplotlib.pyplot.figure`) are retained until explicitly closed and may consume too much memory. (To control this warning, see the rcParam `figure.max_open_warning`).\n",
      "  \"\"\"\n",
      "/Users/apple/anaconda3/lib/python3.7/site-packages/ipykernel_launcher.py:5: RuntimeWarning: More than 20 figures have been opened. Figures created through the pyplot interface (`matplotlib.pyplot.figure`) are retained until explicitly closed and may consume too much memory. (To control this warning, see the rcParam `figure.max_open_warning`).\n",
      "  \"\"\"\n",
      "/Users/apple/anaconda3/lib/python3.7/site-packages/ipykernel_launcher.py:5: RuntimeWarning: More than 20 figures have been opened. Figures created through the pyplot interface (`matplotlib.pyplot.figure`) are retained until explicitly closed and may consume too much memory. (To control this warning, see the rcParam `figure.max_open_warning`).\n",
      "  \"\"\"\n",
      "/Users/apple/anaconda3/lib/python3.7/site-packages/ipykernel_launcher.py:5: RuntimeWarning: More than 20 figures have been opened. Figures created through the pyplot interface (`matplotlib.pyplot.figure`) are retained until explicitly closed and may consume too much memory. (To control this warning, see the rcParam `figure.max_open_warning`).\n",
      "  \"\"\"\n"
     ]
    },
    {
     "data": {
      "text/plain": [
       "<Figure size 1200x900 with 0 Axes>"
      ]
     },
     "metadata": {},
     "output_type": "display_data"
    },
    {
     "data": {
      "text/plain": [
       "<Figure size 1200x900 with 0 Axes>"
      ]
     },
     "metadata": {},
     "output_type": "display_data"
    },
    {
     "data": {
      "text/plain": [
       "<Figure size 1200x900 with 0 Axes>"
      ]
     },
     "metadata": {},
     "output_type": "display_data"
    },
    {
     "data": {
      "text/plain": [
       "<Figure size 1200x900 with 0 Axes>"
      ]
     },
     "metadata": {},
     "output_type": "display_data"
    },
    {
     "data": {
      "text/plain": [
       "<Figure size 1200x900 with 0 Axes>"
      ]
     },
     "metadata": {},
     "output_type": "display_data"
    },
    {
     "data": {
      "text/plain": [
       "<Figure size 1200x900 with 0 Axes>"
      ]
     },
     "metadata": {},
     "output_type": "display_data"
    },
    {
     "data": {
      "text/plain": [
       "<Figure size 1200x900 with 0 Axes>"
      ]
     },
     "metadata": {},
     "output_type": "display_data"
    },
    {
     "data": {
      "text/plain": [
       "<Figure size 1200x900 with 0 Axes>"
      ]
     },
     "metadata": {},
     "output_type": "display_data"
    },
    {
     "data": {
      "text/plain": [
       "<Figure size 1200x900 with 0 Axes>"
      ]
     },
     "metadata": {},
     "output_type": "display_data"
    },
    {
     "data": {
      "text/plain": [
       "<Figure size 1200x900 with 0 Axes>"
      ]
     },
     "metadata": {},
     "output_type": "display_data"
    },
    {
     "data": {
      "text/plain": [
       "<Figure size 1200x900 with 0 Axes>"
      ]
     },
     "metadata": {},
     "output_type": "display_data"
    },
    {
     "data": {
      "text/plain": [
       "<Figure size 1200x900 with 0 Axes>"
      ]
     },
     "metadata": {},
     "output_type": "display_data"
    },
    {
     "data": {
      "text/plain": [
       "<Figure size 1200x900 with 0 Axes>"
      ]
     },
     "metadata": {},
     "output_type": "display_data"
    },
    {
     "data": {
      "text/plain": [
       "<Figure size 1200x900 with 0 Axes>"
      ]
     },
     "metadata": {},
     "output_type": "display_data"
    },
    {
     "data": {
      "text/plain": [
       "<Figure size 1200x900 with 0 Axes>"
      ]
     },
     "metadata": {},
     "output_type": "display_data"
    },
    {
     "data": {
      "text/plain": [
       "<Figure size 1200x900 with 0 Axes>"
      ]
     },
     "metadata": {},
     "output_type": "display_data"
    },
    {
     "data": {
      "text/plain": [
       "<Figure size 1200x900 with 0 Axes>"
      ]
     },
     "metadata": {},
     "output_type": "display_data"
    },
    {
     "data": {
      "text/plain": [
       "<Figure size 1200x900 with 0 Axes>"
      ]
     },
     "metadata": {},
     "output_type": "display_data"
    },
    {
     "data": {
      "text/plain": [
       "<Figure size 1200x900 with 0 Axes>"
      ]
     },
     "metadata": {},
     "output_type": "display_data"
    },
    {
     "data": {
      "text/plain": [
       "<Figure size 1200x900 with 0 Axes>"
      ]
     },
     "metadata": {},
     "output_type": "display_data"
    },
    {
     "data": {
      "text/plain": [
       "<Figure size 1200x900 with 0 Axes>"
      ]
     },
     "metadata": {},
     "output_type": "display_data"
    },
    {
     "data": {
      "text/plain": [
       "<Figure size 1200x900 with 0 Axes>"
      ]
     },
     "metadata": {},
     "output_type": "display_data"
    },
    {
     "data": {
      "text/plain": [
       "<Figure size 1200x900 with 0 Axes>"
      ]
     },
     "metadata": {},
     "output_type": "display_data"
    },
    {
     "data": {
      "text/plain": [
       "<Figure size 1200x900 with 0 Axes>"
      ]
     },
     "metadata": {},
     "output_type": "display_data"
    }
   ],
   "source": [
    "for i in range(24):\n",
    "    \"\"\"\n",
    "    intialize figure\n",
    "    \"\"\"\n",
    "    fig = plt.figure(figsize=(8,6), dpi=150)\n",
    "    ax = fig.add_subplot(111, projection=\"mollweide\")\n",
    "\n",
    "\n",
    "    \"\"\"\n",
    "    intialize data\n",
    "    \"\"\"\n",
    "\n",
    "    # IceCube data\n",
    "    icecube = Detector(0, -pi/2)\n",
    "    icecube.points = np.array([[theta, phi] \\\n",
    "                               for theta in np.arange(60/180*pi, 95/180*pi, 0.05) \\\n",
    "                               for phi in np.arange(-pi, pi, 0.05)])\n",
    "    # SCS data\n",
    "    lonEvo = 112.3/180*pi + i*pi/12\n",
    "    if lonEvo > pi:\n",
    "        lonEvo -= 2*pi\n",
    "    scs = Detector(lonEvo, 16.8/180*pi)\n",
    "    scs.points = rotate(icecube.points, scs.lon, (pi/2+scs.lat))\n",
    "\n",
    "\n",
    "    \"\"\"\n",
    "    plot and config the axes\n",
    "    \"\"\"\n",
    "\n",
    "    # plot IceCube data\n",
    "    ax.scatter(icecube.points[:,1], pi/2-icecube.points[:,0], alpha=.5, s=0.1, color='royalblue')\n",
    "    ax.plot(icecube.lon, icecube.lat+0.1, 'x', color='royalblue')\n",
    "    ax.text(icecube.lon+0.07, icecube.lat+0.17, 'IceCube', color='royalblue')\n",
    "\n",
    "    # plot scs data\n",
    "    ax.scatter(scs.points[:,1], pi/2-scs.points[:,0], alpha=.5, s=0.1, color='darkred')\n",
    "    ax.plot(scs.lon, scs.lat, 'x', color='darkred')\n",
    "    ax.text(scs.lon+0.07, scs.lat+0.07, 'South China Sea', color='darkred')\n",
    "\n",
    "    # config the axes\n",
    "    ax.set_xticks([-pi*2/3, -pi/3, 0, pi/3, pi*2/3])\n",
    "    ax.set_xticklabels(['16h', '20h', '0h', '4h', '8h'])\n",
    "    ax.set_yticks([-pi/3, -pi/6, 0, pi/6, pi/3])\n",
    "    ax.set_yticklabels([r'$-60^\\circ$', r'$-30^\\circ$', r'$0^\\circ$', r'$30^\\circ$', r'$60^\\circ$'])\n",
    "    ax.grid(True)\n",
    "    fig.savefig('./figs/testFig'+str(i)+'.png')\n",
    "    fig.clear()\n",
    "    plt.close()"
   ]
  },
  {
   "cell_type": "code",
   "execution_count": 4,
   "metadata": {},
   "outputs": [],
   "source": [
    "# generate gif\n",
    "filenames = ['./figs/testFig'+str(i)+'.png' for i in range(24)]\n",
    "images = []\n",
    "for filename in filenames:\n",
    "    images.append(imageio.imread(filename))\n",
    "imageio.mimsave('./figs/testGif.gif', images, duration=0.25)\n"
   ]
  },
  {
   "cell_type": "code",
   "execution_count": null,
   "metadata": {},
   "outputs": [],
   "source": []
  }
 ],
 "metadata": {
  "kernelspec": {
   "display_name": "Python 3.7.0 64-bit ('base': conda)",
   "language": "python",
   "name": "python37064bitbasecondabb23d2ffc1d04ab593597bfed73d50be"
  },
  "language_info": {
   "codemirror_mode": {
    "name": "ipython",
    "version": 3
   },
   "file_extension": ".py",
   "mimetype": "text/x-python",
   "name": "python",
   "nbconvert_exporter": "python",
   "pygments_lexer": "ipython3",
   "version": "3.7.2"
  }
 },
 "nbformat": 4,
 "nbformat_minor": 4
}
