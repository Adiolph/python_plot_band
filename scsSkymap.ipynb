{
 "cells": [
  {
   "cell_type": "code",
   "execution_count": 1,
   "metadata": {},
   "outputs": [],
   "source": [
    "import numpy as np\n",
    "from numpy import pi, cos, sin, exp, log, arctan, absolute\n",
    "import matplotlib.pyplot as plt\n",
    "import imageio\n",
    "\n",
    "import astropy.coordinates as coord\n",
    "import astropy.units as u"
   ]
  },
  {
   "cell_type": "code",
   "execution_count": 2,
   "metadata": {},
   "outputs": [],
   "source": [
    "class Detector:\n",
    "    def __init__(self, longitude, latitude):\n",
    "        self.lon = float(longitude)\n",
    "        self.lat = float(latitude)\n",
    "\n",
    "def rotate(angles, alpha, beta):\n",
    "    \"\"\"\n",
    "    Rotation in spherical coordinates.\n",
    "    Firt rotate along z axis, than rotate along y' axis.\n",
    "    See https://stla.github.io/stlapblog/posts/RotationSphericalCoordinates.html for detail.\n",
    "    \n",
    "    Parameters\n",
    "    ----------\n",
    "    angles : numpy arrays\n",
    "        The numpy array of [theta, phi]\n",
    "    alpha : float\n",
    "        The rotation angle along z axis\n",
    "    beta : float \n",
    "        The rotation angle along y axis\n",
    "    \"\"\"\n",
    "    \n",
    "    # the tranform matrix\n",
    "    tfMatrixZ = np.array([[exp(-1j*alpha/2), 0], [0, exp(1j*alpha/2)]])\n",
    "    tfMatrixY = np.array([[cos(beta/2), -sin(beta/2)], [sin(beta/2), cos(beta/2)]])\n",
    "    tfMatrix = np.dot(tfMatrixY, tfMatrixZ)\n",
    "    \n",
    "    # return data initialize\n",
    "    length = len(angles)\n",
    "    anglesNew = np.zeros([length, 2])\n",
    "    \n",
    "    for i in range(length):\n",
    "        angle = angles[i]\n",
    "        comp = np.array([cos(angle[0]/2), exp(1j*angle[1]) * sin(angle[0]/2)])\n",
    "        compNew = np.dot(comp, tfMatrix)\n",
    "        compRatio = compNew[1] / compNew[0]\n",
    "        angleNew = np.array([2*arctan(absolute(compRatio)), np.angle(compRatio)])\n",
    "        anglesNew[i] = angleNew.copy()\n",
    "    return anglesNew\n",
    "        "
   ]
  },
  {
   "cell_type": "code",
   "execution_count": 3,
   "metadata": {
    "scrolled": false
   },
   "outputs": [],
   "source": [
    "for i in range(24):\n",
    "    \"\"\"\n",
    "    intialize figure\n",
    "    \"\"\"\n",
    "    fig = plt.figure(figsize=(8,6), dpi=250)\n",
    "    ax = fig.add_subplot(111, projection=\"mollweide\")\n",
    "\n",
    "\n",
    "    \"\"\"\n",
    "    intialize data\n",
    "    \"\"\"\n",
    "\n",
    "    # IceCube data\n",
    "    icecube = Detector(0, -pi/2)\n",
    "    icecube.points = np.array([[theta, phi] \n",
    "                               for theta in np.arange(60/180*pi, 95/180*pi, 0.05) \n",
    "                               for phi in np.arange(-pi, pi, 0.05)])\n",
    "    # SCS data\n",
    "    lonEvo = 112.3/180*pi + i*pi/12\n",
    "    if lonEvo > pi:\n",
    "        lonEvo -= 2*pi\n",
    "    scs = Detector(lonEvo, 16.8/180*pi)\n",
    "    scs.points = rotate(icecube.points, scs.lon, (pi/2+scs.lat))\n",
    "\n",
    "\n",
    "    \"\"\"\n",
    "    plot and config the axes\n",
    "    \"\"\"\n",
    "\n",
    "    # plot IceCube data\n",
    "    ax.fill_between([-pi, pi], [-pi/36, -pi/36], [pi/6, pi/6], alpha=.3, color='royalblue')\n",
    "    # ax.scatter(icecube.points[:,1], pi/2-icecube.points[:,0], alpha=.7, s=0.15, color='royalblue')\n",
    "    ax.scatter(icecube.lon, icecube.lat+0.1, s=2., marker='x', color='royalblue')\n",
    "    font = {'family': 'serif', 'weight': 'normal', 'size': 13}\n",
    "    ax.text(icecube.lon+0.07, icecube.lat+0.17, 'IceCube', color='royalblue', fontdict=font)\n",
    "\n",
    "    # plot scs data\n",
    "    ax.scatter(scs.points[:,1], pi/2-scs.points[:,0], alpha=.7, s=0.15, color='darkred')\n",
    "    ax.scatter(scs.lon, scs.lat, s=2., marker='x', color='darkred')\n",
    "    ax.text(scs.lon+0.07, scs.lat+0.07, 'South China Sea', color='darkred', fontdict=font)\n",
    "\n",
    "    # config the axes\n",
    "    ax.set_xticks([-pi*2/3, -pi/3, 0, pi/3, pi*2/3, pi])\n",
    "    ax.set_xticklabels(['16h', '20h', '0h', '4h', '8h', '12h'])\n",
    "    ax.set_yticks([-pi/3, -pi/6, 0, pi/6, pi/3])\n",
    "    ax.set_yticklabels([r'$-60^\\circ$', r'$-30^\\circ$', r'$0^\\circ$', r'$30^\\circ$', r'$60^\\circ$'])\n",
    "    ax.grid(True)\n",
    "    plt.savefig('./figs/testFig'+str(i)+'.png')\n",
    "    fig.clear()\n",
    "    plt.close()"
   ]
  },
  {
   "cell_type": "code",
   "execution_count": 16,
   "metadata": {},
   "outputs": [],
   "source": [
    "# generate gif\n",
    "filenames = ['./figs/testFig'+str(i)+'.png' for i in range(24)]\n",
    "images = []\n",
    "for filename in filenames:\n",
    "    images.append(imageio.imread(filename))\n",
    "imageio.mimsave('./figs/testGif.gif', images, duration=0.25)\n"
   ]
  },
  {
   "cell_type": "code",
   "execution_count": null,
   "metadata": {},
   "outputs": [],
   "source": []
  }
 ],
 "metadata": {
  "kernelspec": {
   "name": "Python 3.8.5 64-bit",
   "display_name": "Python 3.8.5 64-bit",
   "metadata": {
    "interpreter": {
     "hash": "aee8b7b246df8f9039afb4144a1f6fd8d2ca17a180786b69acc140d282b71a49"
    }
   }
  },
  "language_info": {
   "codemirror_mode": {
    "name": "ipython",
    "version": 3
   },
   "file_extension": ".py",
   "mimetype": "text/x-python",
   "name": "python",
   "nbconvert_exporter": "python",
   "pygments_lexer": "ipython3",
   "version": "3.8.5-final"
  }
 },
 "nbformat": 4,
 "nbformat_minor": 4
}